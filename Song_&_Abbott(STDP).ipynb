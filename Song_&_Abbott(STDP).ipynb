{
  "nbformat": 4,
  "nbformat_minor": 0,
  "metadata": {
    "colab": {
      "provenance": []
    },
    "kernelspec": {
      "name": "python3",
      "display_name": "Python 3"
    },
    "language_info": {
      "name": "python"
    }
  },
  "cells": [
    {
      "cell_type": "code",
      "execution_count": 1,
      "metadata": {
        "colab": {
          "base_uri": "https://localhost:8080/"
        },
        "id": "hK-DPM6DVA3X",
        "outputId": "402ce426-969f-4690-c37d-2fd47e263a7e"
      },
      "outputs": [
        {
          "output_type": "stream",
          "name": "stdout",
          "text": [
            "Collecting brian2\n",
            "  Downloading brian2-2.9.0-cp312-cp312-manylinux_2_17_x86_64.manylinux2014_x86_64.whl.metadata (6.2 kB)\n",
            "Requirement already satisfied: numpy>=1.23.5 in /usr/local/lib/python3.12/dist-packages (from brian2) (2.0.2)\n",
            "Requirement already satisfied: cython>=0.29.21 in /usr/local/lib/python3.12/dist-packages (from brian2) (3.0.12)\n",
            "Requirement already satisfied: sympy>=1.2 in /usr/local/lib/python3.12/dist-packages (from brian2) (1.13.3)\n",
            "Requirement already satisfied: pyparsing in /usr/local/lib/python3.12/dist-packages (from brian2) (3.2.3)\n",
            "Requirement already satisfied: jinja2>=2.7 in /usr/local/lib/python3.12/dist-packages (from brian2) (3.1.6)\n",
            "Requirement already satisfied: setuptools>=61 in /usr/local/lib/python3.12/dist-packages (from brian2) (75.2.0)\n",
            "Requirement already satisfied: packaging in /usr/local/lib/python3.12/dist-packages (from brian2) (25.0)\n",
            "Requirement already satisfied: MarkupSafe>=2.0 in /usr/local/lib/python3.12/dist-packages (from jinja2>=2.7->brian2) (3.0.2)\n",
            "Requirement already satisfied: mpmath<1.4,>=1.1.0 in /usr/local/lib/python3.12/dist-packages (from sympy>=1.2->brian2) (1.3.0)\n",
            "Downloading brian2-2.9.0-cp312-cp312-manylinux_2_17_x86_64.manylinux2014_x86_64.whl (1.8 MB)\n",
            "\u001b[2K   \u001b[90m━━━━━━━━━━━━━━━━━━━━━━━━━━━━━━━━━━━━━━━━\u001b[0m \u001b[32m1.8/1.8 MB\u001b[0m \u001b[31m17.7 MB/s\u001b[0m eta \u001b[36m0:00:00\u001b[0m\n",
            "\u001b[?25hInstalling collected packages: brian2\n",
            "Successfully installed brian2-2.9.0\n"
          ]
        }
      ],
      "source": [
        "!pip install brian2"
      ]
    },
    {
      "cell_type": "code",
      "source": [
        "from brian2 import *\n",
        "import matplotlib.pyplot as plt"
      ],
      "metadata": {
        "id": "susl08MkV9TG"
      },
      "execution_count": 2,
      "outputs": []
    },
    {
      "cell_type": "code",
      "source": [
        "N = 1000                # 입력 뉴런 수\n",
        "taum = 10*ms            # 막 시정수\n",
        "taupre = 20*ms          # STDP 시간 상수 (pre)\n",
        "taupost = taupre        # STDP 시간 상수 (post)\n",
        "Ee = 0*mV               # 흥분성 평형전위\n",
        "vt = -54*mV             # 임계값\n",
        "vr = -60*mV             # 리셋 전위\n",
        "El = -74*mV             # 휴지막 전위\n",
        "taue = 5*ms             # 흥분성 전도도 감쇠 시간\n",
        "F = 15*Hz               # 포아송 입력 발화율\n",
        "gmax = .01              # 시냅스 최대 전도도\n",
        "\n",
        "# 학습률 세ㅣ팅\n",
        "dApre = .01\n",
        "dApost = -dApre * taupre / taupost * 1.05   # LTD가 LTP보다 좀 커야함\n",
        "dApost *= gmax\n",
        "dApre *= gmax\n"
      ],
      "metadata": {
        "id": "O6wFIQAWV9RA"
      },
      "execution_count": 3,
      "outputs": []
    },
    {
      "cell_type": "code",
      "source": [
        "# 뉴런 방정식\n",
        "eqs_neurons = '''\n",
        "dv/dt = (ge * (Ee-v) + El - v) / taum : volt\n",
        "dge/dt = -ge / taue : 1\n",
        "'''\n"
      ],
      "metadata": {
        "id": "bpgCt-A3V869"
      },
      "execution_count": 4,
      "outputs": []
    },
    {
      "cell_type": "code",
      "source": [
        "# presynaptic input\n",
        "poisson_input = PoissonGroup(N, rates=F)\n"
      ],
      "metadata": {
        "id": "9QK4RcAhV84o"
      },
      "execution_count": 5,
      "outputs": []
    },
    {
      "cell_type": "code",
      "source": [
        "# postsynaptic 뉴런 1개\n",
        "neurons = NeuronGroup(\n",
        "    1, eqs_neurons,\n",
        "    threshold='v>vt',\n",
        "    reset='v = vr',\n",
        "    method='euler'\n",
        ")"
      ],
      "metadata": {
        "id": "TNMCnTUmV82g"
      },
      "execution_count": 6,
      "outputs": []
    },
    {
      "cell_type": "code",
      "source": [
        "# 시냅스 + stdp 규칙\n",
        "S = Synapses(\n",
        "    poisson_input, neurons,\n",
        "    '''\n",
        "    w : 1\n",
        "    dApre/dt = -Apre / taupre : 1 (event-driven)\n",
        "    dApost/dt = -Apost / taupost : 1 (event-driven)\n",
        "    ''',\n",
        "    on_pre='''\n",
        "        ge += w\n",
        "        Apre += dApre\n",
        "        w = clip(w + Apost, 0, gmax)\n",
        "    ''',\n",
        "    on_post='''\n",
        "        Apost += dApost\n",
        "        w = clip(w + Apre, 0, gmax)\n",
        "    ''',\n",
        ")\n",
        "\n",
        "S.connect()\n",
        "S.w = 'rand() * gmax'"
      ],
      "metadata": {
        "id": "FcQWGF56V80Z"
      },
      "execution_count": 7,
      "outputs": []
    },
    {
      "cell_type": "code",
      "source": [
        "# 모니터링\n",
        "mon = StateMonitor(S, 'w', record=[0, 1])   # 시냅스 0,1번 추적\n",
        "s_mon = SpikeMonitor(poisson_input)"
      ],
      "metadata": {
        "id": "9CszWa0MV8yh"
      },
      "execution_count": 8,
      "outputs": []
    },
    {
      "cell_type": "code",
      "source": [
        "run(20*second, report='text')"
      ],
      "metadata": {
        "colab": {
          "base_uri": "https://localhost:8080/"
        },
        "id": "JXWm6zihV8wp",
        "outputId": "5095046d-85ce-4ccd-a313-615c79b466e1"
      },
      "execution_count": 9,
      "outputs": [
        {
          "output_type": "stream",
          "name": "stdout",
          "text": [
            "Starting simulation at t=0. s for a duration of 20. s\n",
            "14.8587 s (74%) simulated in 10s, estimated 3s remaining.\n",
            "20. s (100%) simulated in 13s\n"
          ]
        }
      ]
    },
    {
      "cell_type": "code",
      "source": [
        "plt.figure(figsize=(10, 8))"
      ],
      "metadata": {
        "colab": {
          "base_uri": "https://localhost:8080/",
          "height": 53
        },
        "id": "IbzDvploV8u1",
        "outputId": "b201a327-1029-40df-d153-2250c22b043d"
      },
      "execution_count": 10,
      "outputs": [
        {
          "output_type": "execute_result",
          "data": {
            "text/plain": [
              "<Figure size 1000x800 with 0 Axes>"
            ]
          },
          "metadata": {},
          "execution_count": 10
        },
        {
          "output_type": "display_data",
          "data": {
            "text/plain": [
              "<Figure size 1000x800 with 0 Axes>"
            ]
          },
          "metadata": {}
        }
      ]
    },
    {
      "cell_type": "code",
      "source": [
        "plt.subplot(311)\n",
        "plt.plot(S.w / gmax, '.k')\n",
        "plt.ylabel('Weight / gmax')\n",
        "plt.xlabel('Synapse index')"
      ],
      "metadata": {
        "colab": {
          "base_uri": "https://localhost:8080/",
          "height": 207
        },
        "id": "IKjyy4pmV8s5",
        "outputId": "c2b05c2b-be72-4ddb-9334-6711a4f70730"
      },
      "execution_count": 11,
      "outputs": [
        {
          "output_type": "execute_result",
          "data": {
            "text/plain": [
              "Text(0.5, 0, 'Synapse index')"
            ]
          },
          "metadata": {},
          "execution_count": 11
        },
        {
          "output_type": "display_data",
          "data": {
            "text/plain": [
              "<Figure size 640x480 with 1 Axes>"
            ],
            "image/png": "[encoded data removed]"
          },
          "metadata": {}
        }
      ]
    },
    {
      "cell_type": "markdown",
      "source": [
        "각 점 = 하나의 Presynaptic 시냅스의 최종 가중치 / gmax\n",
        "\n",
        "0.0 - 1.0 사이에 고르게 흩어져 있는데 0 근처와 1 근처에 상대적으로 많이 모여있음\n",
        "\n",
        "-> STDP 경쟁효과 결과 (일부 시냅스는 강하게 유지 (1근처) 다른 시냅스는 약화 (0근처)\n",
        "\n",
        "\n",
        "\n",
        "---\n",
        "\n"
      ],
      "metadata": {
        "id": "n3pyM5ClYXYA"
      }
    },
    {
      "cell_type": "code",
      "source": [
        "plt.subplot(312)\n",
        "plt.hist(S.w / gmax, bins=20)\n",
        "plt.xlabel('Weight / gmax')"
      ],
      "metadata": {
        "colab": {
          "base_uri": "https://localhost:8080/",
          "height": 210
        },
        "id": "y_goMggpV8rB",
        "outputId": "f4cf3732-9d41-46a8-8650-8d0a44aae256"
      },
      "execution_count": 12,
      "outputs": [
        {
          "output_type": "execute_result",
          "data": {
            "text/plain": [
              "Text(0.5, 0, 'Weight / gmax')"
            ]
          },
          "metadata": {},
          "execution_count": 12
        },
        {
          "output_type": "display_data",
          "data": {
            "text/plain": [
              "<Figure size 640x480 with 1 Axes>"
            ],
            "image/png": "[encoded data removed]"
          },
          "metadata": {}
        }
      ]
    },
    {
      "cell_type": "markdown",
      "source": [
        "분포가 0 근처 피크 + 1 근처 피크 -> 양극화 현상\n",
        "\n",
        "Song & Abbott 논문에서 무상관 입력만 줘도 이런 양극화가 나타난다고 보고\n",
        "\n",
        "-> 시냅스끼리 경쟁해서 살아남거나 죽는다는 것 보여줌\n",
        "\n",
        "\n",
        "\n",
        "---\n",
        "\n"
      ],
      "metadata": {
        "id": "K2SLzGZ9Y06d"
      }
    },
    {
      "cell_type": "code",
      "source": [
        "plt.subplot(313)\n",
        "plt.plot(mon.t/second, mon.w.T/gmax)\n",
        "plt.xlabel('Time (s)')\n",
        "plt.ylabel('Weight / gmax')\n",
        "\n",
        "plt.tight_layout()\n",
        "plt.show()"
      ],
      "metadata": {
        "colab": {
          "base_uri": "https://localhost:8080/",
          "height": 205
        },
        "id": "SNDDGbItV8or",
        "outputId": "2b7fe8a8-db92-4f19-b0ee-8462613fba3c"
      },
      "execution_count": 13,
      "outputs": [
        {
          "output_type": "display_data",
          "data": {
            "text/plain": [
              "<Figure size 640x480 with 1 Axes>"
            ],
            "image/png": "[encoded data removed]"
          },
          "metadata": {}
        }
      ]
    },
    {
      "cell_type": "markdown",
      "source": [
        "시냅스 두개만 추적한 그래프\n",
        "\n",
        "파란색 : 점점 1 근처로 올라가 안정적으로 유지\n",
        "\n",
        "주황색 : 0 근처로 떨어져서 유지\n",
        "\n",
        "-> STDP가 시냅스별로 경쟁적 선택 만듦"
      ],
      "metadata": {
        "id": "vRayTxaOZKDB"
      }
    }
  ]
}
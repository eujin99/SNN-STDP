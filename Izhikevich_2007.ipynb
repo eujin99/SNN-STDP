{
  "nbformat": 4,
  "nbformat_minor": 0,
  "metadata": {
    "colab": {
      "provenance": []
    },
    "kernelspec": {
      "name": "python3",
      "display_name": "Python 3"
    },
    "language_info": {
      "name": "python"
    }
  },
  "cells": [
    {
      "cell_type": "code",
      "execution_count": 1,
      "metadata": {
        "colab": {
          "base_uri": "https://localhost:8080/"
        },
        "id": "1kBS3STdecgS",
        "outputId": "e56fee37-0251-4b0f-a693-fc31114bd02f"
      },
      "outputs": [
        {
          "output_type": "stream",
          "name": "stdout",
          "text": [
            "Collecting brian2\n",
            "  Downloading brian2-2.9.0-cp312-cp312-manylinux_2_17_x86_64.manylinux2014_x86_64.whl.metadata (6.2 kB)\n",
            "Requirement already satisfied: numpy>=1.23.5 in /usr/local/lib/python3.12/dist-packages (from brian2) (2.0.2)\n",
            "Requirement already satisfied: cython>=0.29.21 in /usr/local/lib/python3.12/dist-packages (from brian2) (3.0.12)\n",
            "Requirement already satisfied: sympy>=1.2 in /usr/local/lib/python3.12/dist-packages (from brian2) (1.13.3)\n",
            "Requirement already satisfied: pyparsing in /usr/local/lib/python3.12/dist-packages (from brian2) (3.2.3)\n",
            "Requirement already satisfied: jinja2>=2.7 in /usr/local/lib/python3.12/dist-packages (from brian2) (3.1.6)\n",
            "Requirement already satisfied: setuptools>=61 in /usr/local/lib/python3.12/dist-packages (from brian2) (75.2.0)\n",
            "Requirement already satisfied: packaging in /usr/local/lib/python3.12/dist-packages (from brian2) (25.0)\n",
            "Requirement already satisfied: MarkupSafe>=2.0 in /usr/local/lib/python3.12/dist-packages (from jinja2>=2.7->brian2) (3.0.2)\n",
            "Requirement already satisfied: mpmath<1.4,>=1.1.0 in /usr/local/lib/python3.12/dist-packages (from sympy>=1.2->brian2) (1.3.0)\n",
            "Downloading brian2-2.9.0-cp312-cp312-manylinux_2_17_x86_64.manylinux2014_x86_64.whl (1.8 MB)\n",
            "\u001b[2K   \u001b[90m━━━━━━━━━━━━━━━━━━━━━━━━━━━━━━━━━━━━━━━━\u001b[0m \u001b[32m1.8/1.8 MB\u001b[0m \u001b[31m14.6 MB/s\u001b[0m eta \u001b[36m0:00:00\u001b[0m\n",
            "\u001b[?25hInstalling collected packages: brian2\n",
            "Successfully installed brian2-2.9.0\n"
          ]
        }
      ],
      "source": [
        "!pip install brian2"
      ]
    },
    {
      "cell_type": "code",
      "source": [
        "from brian2 import *\n",
        "import matplotlib.pyplot as plt"
      ],
      "metadata": {
        "id": "9KMQ1ALheln1"
      },
      "execution_count": 2,
      "outputs": []
    },
    {
      "cell_type": "code",
      "source": [
        "seed(0)\n",
        "prefs.codegen.target = \"numpy\""
      ],
      "metadata": {
        "id": "jbKKboG1elmP"
      },
      "execution_count": 3,
      "outputs": []
    },
    {
      "cell_type": "code",
      "source": [
        "# parameters\n",
        "simulation_duration = 6 * second\n",
        "\n",
        "# 뉴런\n",
        "taum = 10*ms\n",
        "Ee = 0*mV\n",
        "vt = -54*mV\n",
        "vr = -60*mV\n",
        "El = -74*mV\n",
        "taue = 5*ms\n",
        "\n",
        "# STDP\n",
        "taupre  = 20*ms\n",
        "taupost = taupre\n",
        "gmax = .01\n",
        "dApre = .01\n",
        "dApost = -dApre * taupre / taupost * 1.05\n",
        "dApost *= gmax\n",
        "dApre  *= gmax\n",
        "\n",
        "# 도파민 신호\n",
        "tauc = 1000*ms          # eligibility trace c(t) decay\n",
        "taud = 200*ms           # dopamine trace d(t) decay\n",
        "taus = 1*ms             # 가중치 적용 속도\n",
        "epsilon_dopa = 5e-3     # 도파민 스파이크 1회당 d 증가량"
      ],
      "metadata": {
        "id": "iHVWZok2elkU"
      },
      "execution_count": 4,
      "outputs": []
    },
    {
      "cell_type": "code",
      "source": [
        "# 자극 정의\n",
        "# 2개의 입력 뉴런이 특정 시점에 spike\n",
        "input_indices = array([0, 1, 0, 1, 1, 0,\n",
        "                       0, 1, 0, 1, 1, 0])\n",
        "input_times = array([ 500,  550, 1000, 1010, 1500, 1510,\n",
        "                     3500, 3550, 4000, 4010, 4500, 4510])*ms\n",
        "spike_input = SpikeGeneratorGroup(2, input_indices, input_times)"
      ],
      "metadata": {
        "id": "LH3kH67meliO"
      },
      "execution_count": 5,
      "outputs": []
    },
    {
      "cell_type": "code",
      "source": [
        "# post뉴런 2개\n",
        "neurons = NeuronGroup(\n",
        "    2,\n",
        "    '''dv/dt = (ge * (Ee - v) + El - v) / taum : volt\n",
        "       dge/dt = -ge / taue : 1''',\n",
        "    threshold='v>vt',\n",
        "    reset='v = vr',\n",
        "    method='euler'\n",
        ")\n",
        "neurons.v = vr\n",
        "neurons_mon = SpikeMonitor(neurons)\n"
      ],
      "metadata": {
        "id": "3pwQxp0pelgG"
      },
      "execution_count": 6,
      "outputs": []
    },
    {
      "cell_type": "code",
      "source": [
        "# input -> 뉴런 직접 연결 (자극 전달)\n",
        "stim = Synapses(spike_input, neurons, model='s: volt', on_pre='v += s')\n",
        "stim.connect(i=[0,1], j=[0,1])     # 0->0 / 1->1\n",
        "stim.s = 100.*mV"
      ],
      "metadata": {
        "id": "Tv5MrmUSeleP"
      },
      "execution_count": 7,
      "outputs": []
    },
    {
      "cell_type": "code",
      "source": [
        "# STDP 시냅스\n",
        "syn = Synapses(\n",
        "    neurons, neurons,\n",
        "    model='''\n",
        "        mode : 1\n",
        "        dc/dt = -c / tauc : 1 (clock-driven)     # eligibility trace\n",
        "        dd/dt = -d / taud : 1 (clock-driven)     # dopamine trace\n",
        "        ds/dt = mode * c * d / taus : 1 (clock-driven)  # 실제 가중치 적용(보상 있을 때)\n",
        "        dApre/dt  = -Apre  / taupre  : 1 (event-driven)\n",
        "        dApost/dt = -Apost / taupost : 1 (event-driven)\n",
        "    ''',\n",
        "    on_pre='''\n",
        "        ge += s\n",
        "        Apre += dApre\n",
        "        c = clip(c + mode * Apost, -gmax, gmax)\n",
        "        s = clip(s + (1 - mode) * Apost, -gmax, gmax)\n",
        "    ''',\n",
        "    on_post='''\n",
        "        Apost += dApost\n",
        "        c = clip(c + mode * Apre, -gmax, gmax)\n",
        "        s = clip(s + (1 - mode) * Apre, -gmax, gmax)\n",
        "    ''',\n",
        "    method='euler'\n",
        ")\n",
        "syn.connect(i=0, j=1)     # pre: neuron0 -> post: neuron1\n",
        "syn.mode = 0              # classical로 시작\n",
        "syn.s = 1e-10             # w 초기값\n",
        "syn.c = 1e-10             # eligibility 초기값\n",
        "syn.d = 0                 # 도파민 초기값\n",
        "\n",
        "syn_mon = StateMonitor(syn, ['s','c','d'], record=[0])\n"
      ],
      "metadata": {
        "id": "DVl5dilielcH"
      },
      "execution_count": 8,
      "outputs": []
    },
    {
      "cell_type": "code",
      "source": [
        "# 도파민 input\n",
        "dopamine_indices = array([0, 0, 0])\n",
        "dopamine_times = array([3520, 4020, 4520])*ms  # 보상 타이밍\n",
        "dopamine = SpikeGeneratorGroup(1, array([0,0,0]), dopamine_times)\n",
        "dopamine_mon = SpikeMonitor(dopamine)\n",
        "\n",
        "# 도파민 spike가 syn.dd_post 증가 시ㅣ킴 (보상 신호 전달)\n",
        "reward = Synapses(dopamine, syn, on_pre='d_post += epsilon_dopa', method='exact')\n",
        "reward.connect()"
      ],
      "metadata": {
        "id": "V7yAYH5GelaB"
      },
      "execution_count": 9,
      "outputs": []
    },
    {
      "cell_type": "code",
      "source": [
        "# 시뮬\n",
        "# 앞에꺼 반 classical STDP\n",
        "syn.mode = 0\n",
        "run(simulation_duration/2, report='text')"
      ],
      "metadata": {
        "colab": {
          "base_uri": "https://localhost:8080/"
        },
        "id": "tySlRB10elX9",
        "outputId": "81294d31-5b91-44ef-f8dc-2c68e37e28b8"
      },
      "execution_count": 10,
      "outputs": [
        {
          "output_type": "stream",
          "name": "stdout",
          "text": [
            "Starting simulation at t=0. s for a duration of 3. s\n",
            "3. s (100%) simulated in 5s\n"
          ]
        }
      ]
    },
    {
      "cell_type": "code",
      "source": [
        "# 뒤에꺼 반 Dopamine modulated STDP\n",
        "syn.mode = 1\n",
        "run(simulation_duration/2, report='text')"
      ],
      "metadata": {
        "colab": {
          "base_uri": "https://localhost:8080/"
        },
        "id": "NeBU0dlPelWC",
        "outputId": "1cbe3b17-c761-42b3-903a-451a16069303"
      },
      "execution_count": 11,
      "outputs": [
        {
          "output_type": "stream",
          "name": "stdout",
          "text": [
            "Starting simulation at t=3. s for a duration of 3. s\n",
            "3. s (100%) simulated in 4s\n"
          ]
        }
      ]
    },
    {
      "cell_type": "code",
      "source": [
        "dop_i, dop_t = dopamine_mon.it\n",
        "neu_i, neu_t = neurons_mon.it\n",
        "\n",
        "plt.figure(figsize=(12, 6))"
      ],
      "metadata": {
        "colab": {
          "base_uri": "https://localhost:8080/",
          "height": 53
        },
        "id": "iZxhxgjQelT7",
        "outputId": "6e6111d6-dbfa-478e-aef5-f5abff3e460f"
      },
      "execution_count": 12,
      "outputs": [
        {
          "output_type": "execute_result",
          "data": {
            "text/plain": [
              "<Figure size 1200x600 with 0 Axes>"
            ]
          },
          "metadata": {},
          "execution_count": 12
        },
        {
          "output_type": "display_data",
          "data": {
            "text/plain": [
              "<Figure size 1200x600 with 0 Axes>"
            ]
          },
          "metadata": {}
        }
      ]
    },
    {
      "cell_type": "code",
      "source": [
        "plt.subplot(4,1,1)\n",
        "plt.plot([0.05, (simulation_duration/second)/2 - 0.05], [2.7, 2.7], lw=5, color='k')\n",
        "plt.text((simulation_duration/second)/4, 3, 'Classical STDP', ha='center', fontsize=10)\n",
        "plt.plot([(simulation_duration/second)/2 + 0.05, simulation_duration/second - 0.05], [2.7, 2.7], lw=5, color='k')\n",
        "plt.text(3*(simulation_duration/second)/4, 3, 'Dopamine-modulated STDP', ha='center')\n",
        "plt.plot(neu_t, neu_i, 'ob')\n",
        "plt.plot(dop_t, dop_i + 2, 'or')\n",
        "plt.xlim([0, simulation_duration/second])\n",
        "plt.ylim([-0.5, 4])\n",
        "plt.yticks([0,1,2], ['Pre-neuron','Post-neuron','Reward'])\n",
        "plt.xticks([])\n",
        "plt.legend(loc='upper right', frameon=False)"
      ],
      "metadata": {
        "colab": {
          "base_uri": "https://localhost:8080/",
          "height": 262
        },
        "id": "JRRUgZQgelQb",
        "outputId": "c1486f45-b408-46e7-fe3c-07bfda0a7d53"
      },
      "execution_count": 22,
      "outputs": [
        {
          "output_type": "stream",
          "name": "stderr",
          "text": [
            "WARNING    /tmp/ipython-input-3699634166.py:12: UserWarning: No artists with labels found to put in legend.  Note that artists whose label start with an underscore are ignored when legend() is called with no argument.\n",
            "  plt.legend(loc='upper right', frameon=False)\n",
            " [py.warnings]\n",
            "WARNING:py.warnings:/tmp/ipython-input-3699634166.py:12: UserWarning: No artists with labels found to put in legend.  Note that artists whose label start with an underscore are ignored when legend() is called with no argument.\n",
            "  plt.legend(loc='upper right', frameon=False)\n",
            "\n"
          ]
        },
        {
          "output_type": "execute_result",
          "data": {
            "text/plain": [
              "<matplotlib.legend.Legend at 0x7d26cca33a70>"
            ]
          },
          "metadata": {},
          "execution_count": 22
        },
        {
          "output_type": "display_data",
          "data": {
            "text/plain": [
              "<Figure size 640x480 with 1 Axes>"
            ],
            "image/png": "[encoded data removed]"
          },
          "metadata": {}
        }
      ]
    },
    {
      "cell_type": "code",
      "source": [
        "plt.subplot(4,1,2)\n",
        "plt.plot(syn_mon.t/second, syn_mon.d.T/gmax, 'r-')\n",
        "plt.ylabel('dopamine d(t)')\n",
        "plt.xlim([0, simulation_duration/second])\n",
        "plt.xticks([])"
      ],
      "metadata": {
        "colab": {
          "base_uri": "https://localhost:8080/",
          "height": 140
        },
        "id": "1_jr3X9XelOE",
        "outputId": "e68b4813-3e23-4cde-f03d-69c81d8823bc"
      },
      "execution_count": 23,
      "outputs": [
        {
          "output_type": "execute_result",
          "data": {
            "text/plain": [
              "([], [])"
            ]
          },
          "metadata": {},
          "execution_count": 23
        },
        {
          "output_type": "display_data",
          "data": {
            "text/plain": [
              "<Figure size 640x480 with 1 Axes>"
            ],
            "image/png": "[encoded data removed]"
          },
          "metadata": {}
        }
      ]
    },
    {
      "cell_type": "markdown",
      "source": [
        "도파민 spike 들어올 때마다 d(t) 순간적으로 증가\n",
        "\n",
        "이후 시간상수 td=200ms 에 따라 천천히 감소\n",
        "\n",
        "도파민은 순간 신호지만 효과가 수백 ms 동안 유지됨.\n",
        "\n",
        "-> 외부 보상 신호가 언제 들어왔는지, 일정 시간 동안 영향력을 갖는다는 것을 모델링\n",
        "\n",
        "\n",
        "\n",
        "---\n",
        "\n"
      ],
      "metadata": {
        "id": "qdFMVN8i-IhO"
      }
    },
    {
      "cell_type": "code",
      "source": [
        "plt.subplot(4,1,3)\n",
        "plt.plot(syn_mon.t/second, syn_mon.c.T/gmax, 'b-')\n",
        "plt.ylabel('eligibility c(t)')\n",
        "plt.xlim([0, simulation_duration/second])\n",
        "plt.xticks([])"
      ],
      "metadata": {
        "colab": {
          "base_uri": "https://localhost:8080/",
          "height": 135
        },
        "id": "rOJh53vVelL-",
        "outputId": "a4b5a4db-dbc5-4567-a702-314cf9fff82b"
      },
      "execution_count": 24,
      "outputs": [
        {
          "output_type": "execute_result",
          "data": {
            "text/plain": [
              "([], [])"
            ]
          },
          "metadata": {},
          "execution_count": 24
        },
        {
          "output_type": "display_data",
          "data": {
            "text/plain": [
              "<Figure size 640x480 with 1 Axes>"
            ],
            "image/png": "[encoded data removed]"
          },
          "metadata": {}
        }
      ]
    },
    {
      "cell_type": "markdown",
      "source": [
        "pre-post 스파이크 pair 발생 시 마다 c(t) 살짝 증가\n",
        "\n",
        "tc = 1000ms 로 느리게 사라지니까 스파이크 후에도 수초 동안 흔적 남음\n",
        "\n",
        "단독으로는 시냅스 변화 못 만들고, 도파민이 와야 weight 업뎃 일어남\n",
        "\n",
        "-> spike 상관의ㅣ 흔적을 일단 적립해두는 메모리 역할\n",
        "\n",
        "\n",
        "\n",
        "---\n",
        "\n"
      ],
      "metadata": {
        "id": "b-9z7sUW-pe2"
      }
    },
    {
      "cell_type": "code",
      "source": [
        "plt.subplot(4,1,4)\n",
        "plt.plot(syn_mon.t/second, syn_mon.s.T/gmax, 'g-')\n",
        "plt.ylabel('weight s(t)')\n",
        "plt.xlabel('Time (s)')\n",
        "plt.xlim([0, simulation_duration/second])\n",
        "\n",
        "plt.tight_layout()\n",
        "plt.show()"
      ],
      "metadata": {
        "colab": {
          "base_uri": "https://localhost:8080/",
          "height": 170
        },
        "id": "NE1SHJQBelJp",
        "outputId": "cadeccaa-2305-4374-a979-7b7d2974bc8f"
      },
      "execution_count": 25,
      "outputs": [
        {
          "output_type": "display_data",
          "data": {
            "text/plain": [
              "<Figure size 640x480 with 1 Axes>"
            ],
            "image/png": "[encoded data removed]"
          },
          "metadata": {}
        }
      ]
    },
    {
      "cell_type": "markdown",
      "source": [
        "0-3 sec -> spike 패턴만으로 weight plot 변동 있음 (1sec LTP / 1.5sec LTD)\n",
        "\n",
        "3-6 sec -> spike 패턴에 따라 바로 weight 로 반영되지 않고, 도파민이 들어올 때만 반영 (4초 대에 weight 상승 후 안정화)\n",
        "\n",
        "\n",
        "\n",
        "---\n",
        "\n",
        "\n",
        "\n",
        "classical STDP : spike 우연적 패턴에도 따라가기 때문에 불안정\n",
        "\n",
        "Dopamine-modulated STDP : 보상 들어올 때만 반영되서 안정적 강화"
      ],
      "metadata": {
        "id": "-KBecMCz_BGP"
      }
    }
  ]
}